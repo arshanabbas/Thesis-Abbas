{
 "cells": [
  {
   "cell_type": "code",
   "execution_count": 12,
   "metadata": {},
   "outputs": [],
   "source": [
    "import cv2\n",
    "import ultralytics\n",
    "import glob\n",
    "import os\n",
    "import json"
   ]
  },
  {
   "cell_type": "code",
   "execution_count": 13,
   "metadata": {},
   "outputs": [
    {
     "name": "stdout",
     "output_type": "stream",
     "text": [
      "8.3.29\n"
     ]
    }
   ],
   "source": [
    "print(ultralytics.__version__)"
   ]
  },
  {
   "cell_type": "code",
   "execution_count": 14,
   "metadata": {},
   "outputs": [],
   "source": [
    "# Load COCO annotations\n",
    "with open(r\"F:\\Pomodoro\\Work\\TIME\\Script\\Thesis-Abbas-Segmentation\\COCO1\\Test\\new_result.json\") as file:\n",
    "    data = json.load(file)"
   ]
  },
  {
   "cell_type": "code",
   "execution_count": 15,
   "metadata": {},
   "outputs": [],
   "source": [
    "# Set up output directory for YOLO annotation files\n",
    "output_dir = (r\"F:\\Pomodoro\\Work\\TIME\\Script\\Thesis-Abbas-Segmentation\\COCO1\\Test\\labels\")\n",
    "os.makedirs(output_dir, exist_ok=True)"
   ]
  },
  {
   "cell_type": "code",
   "execution_count": null,
   "metadata": {},
   "outputs": [],
   "source": [
    "# Set up output directory for YOLO annotation files\n",
    "output_dir = \"path/to/labels\"(\"F:\\Pomodoro\\Work\\TIME\\Script\\Thesis-Abbas-Segmentation\\COCO1\\Test\\labels\", \"r\")\n",
    "os.makedirs(output_dir, exist_ok=True)\n",
    "\n",
    "# Extract relevant information\n",
    "images = {image[\"id\"]: image for image in data[\"images\"]}\n",
    "categories = {category[\"id\"]: category[\"name\"] for category in data[\"categories\"]}\n",
    "\n",
    "# Convert annotations\n",
    "for annotation in data[\"annotations\"]:\n",
    "    image_info = images[annotation[\"image_id\"]]\n",
    "    img_width, img_height = image_info[\"width\"], image_info[\"height\"]\n",
    "    file_name = os.path.splitext(image_info[\"file_name\"])[0]\n",
    "    \n",
    "    # YOLO annotation file for this image\n",
    "    yolo_annotation_path = os.path.join(output_dir, f\"{file_name}.txt\")\n",
    "    \n",
    "    with open(yolo_annotation_path, \"a\") as f:\n",
    "        # Category ID (class)\n",
    "        class_id = annotation[\"category_id\"]\n",
    "        \n",
    "        # Bounding box conversion (YOLO format requires x_center, y_center, width, height normalized)\n",
    "        bbox = annotation[\"bbox\"]\n",
    "        x_center = (bbox[0] + bbox[2] / 2) / img_width\n",
    "        y_center = (bbox[1] + bbox[3] / 2) / img_height\n",
    "        bbox_width = bbox[2] / img_width\n",
    "        bbox_height = bbox[3] / img_height\n",
    "        \n",
    "        # Segmentation (normalized polygon points for YOLOv8 segmentation)\n",
    "        segmentation = annotation[\"segmentation\"][0]\n",
    "        normalized_segmentation = [str(point / img_width if i % 2 == 0 else point / img_height) \n",
    "                                   for i, point in enumerate(segmentation)]\n",
    "        \n",
    "        # Write YOLO formatted line\n",
    "        yolo_line = f\"{class_id} {x_center} {y_center} {bbox_width} {bbox_height} \" + \" \".join(normalized_segmentation)\n",
    "        f.write(yolo_line + \"\\n\")\n",
    "\n",
    "print(\"Conversion complete! YOLO format annotations saved.\")\n"
   ]
  }
 ],
 "metadata": {
  "kernelspec": {
   "display_name": "AbbasThesis",
   "language": "python",
   "name": "python3"
  },
  "language_info": {
   "codemirror_mode": {
    "name": "ipython",
    "version": 3
   },
   "file_extension": ".py",
   "mimetype": "text/x-python",
   "name": "python",
   "nbconvert_exporter": "python",
   "pygments_lexer": "ipython3",
   "version": "3.12.0"
  }
 },
 "nbformat": 4,
 "nbformat_minor": 2
}
