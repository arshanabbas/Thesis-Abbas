{
 "cells": [
  {
   "cell_type": "code",
   "execution_count": 1,
   "metadata": {},
   "outputs": [],
   "source": [
    "import fiftyone as fo\n",
    "import fiftyone.types as fot \n",
    "import webbrowser\n",
    "import os\n",
    "import json"
   ]
  },
  {
   "cell_type": "code",
   "execution_count": 2,
   "metadata": {},
   "outputs": [],
   "source": [
    "images_dir = (r\"F:\\Pomodoro\\Work\\TIME\\Script\\Thesis-Abbas-Segmentation\\COCO1\\images_cropped\\images\")\n",
    "annotations_path = (r\"F:\\Pomodoro\\Work\\TIME\\Script\\Thesis-Abbas-Segmentation\\COCO1\\Test\\new_result.json\")"
   ]
  },
  {
   "cell_type": "code",
   "execution_count": 3,
   "metadata": {},
   "outputs": [
    {
     "name": "stdout",
     "output_type": "stream",
     "text": [
      "Images directory exists: True\n",
      "Number of images: 291\n"
     ]
    }
   ],
   "source": [
    "# Check if images directory has files\n",
    "print(\"Images directory exists:\", os.path.isdir(images_dir))\n",
    "print(\"Number of images:\", len(os.listdir(images_dir)))"
   ]
  },
  {
   "cell_type": "code",
   "execution_count": 4,
   "metadata": {},
   "outputs": [
    {
     "name": "stdout",
     "output_type": "stream",
     "text": [
      "Annotations file exists: True\n"
     ]
    }
   ],
   "source": [
    "# Check if annotation file exists\n",
    "print(\"Annotations file exists:\", os.path.isfile(annotations_path))"
   ]
  },
  {
   "cell_type": "code",
   "execution_count": 5,
   "metadata": {},
   "outputs": [],
   "source": [
    "# Load the JSON file\n",
    "with open(annotations_path, \"r\") as f:\n",
    "    annotations = json.load(f)\n",
    "\n",
    "# Update each file_name to remove the folder path\n",
    "for image in annotations[\"images\"]:\n",
    "    image[\"file_name\"] = image[\"file_name\"].split(\"\\\\\")[-1]\n",
    "\n",
    "# Save the updated JSON file\n",
    "with open(annotations_path, \"w\") as f:\n",
    "    json.dump(annotations, f)\n"
   ]
  },
  {
   "cell_type": "code",
   "execution_count": 6,
   "metadata": {},
   "outputs": [],
   "source": [
    "if fo.dataset_exists(\"my_custom_dataset\"):\n",
    "    fo.delete_dataset(\"my_custom_dataset\")"
   ]
  },
  {
   "cell_type": "code",
   "execution_count": 7,
   "metadata": {},
   "outputs": [],
   "source": [
    "fo.config.requirement_error_level = 1"
   ]
  },
  {
   "cell_type": "code",
   "execution_count": 8,
   "metadata": {},
   "outputs": [
    {
     "name": "stdout",
     "output_type": "stream",
     "text": [
      " 100% |█████████████████| 291/291 [1.5m elapsed, 0s remaining, 4.4 samples/s]      \n"
     ]
    }
   ],
   "source": [
    "# Create dataset from COCO format\n",
    "dataset = fo.Dataset.from_dir(\n",
    "    dataset_type=fot.COCODetectionDataset,\n",
    "    data_path=images_dir,\n",
    "    labels_path=annotations_path,\n",
    "    label_types=[\"segmentations\"],  # Use \"segmentations\" to handle polygon data\n",
    "    name=\"my_custom_dataset\"\n",
    ")"
   ]
  },
  {
   "cell_type": "code",
   "execution_count": 9,
   "metadata": {},
   "outputs": [
    {
     "name": "stdout",
     "output_type": "stream",
     "text": [
      "Dataset loaded: Name:        my_custom_dataset\n",
      "Media type:  image\n",
      "Num samples: 291\n",
      "Persistent:  False\n",
      "Tags:        []\n",
      "Sample fields:\n",
      "    id:               fiftyone.core.fields.ObjectIdField\n",
      "    filepath:         fiftyone.core.fields.StringField\n",
      "    tags:             fiftyone.core.fields.ListField(fiftyone.core.fields.StringField)\n",
      "    metadata:         fiftyone.core.fields.EmbeddedDocumentField(fiftyone.core.metadata.ImageMetadata)\n",
      "    created_at:       fiftyone.core.fields.DateTimeField\n",
      "    last_modified_at: fiftyone.core.fields.DateTimeField\n",
      "    ground_truth:     fiftyone.core.fields.EmbeddedDocumentField(fiftyone.core.labels.Detections)\n"
     ]
    }
   ],
   "source": [
    "print(\"Dataset loaded:\", dataset)"
   ]
  },
  {
   "cell_type": "code",
   "execution_count": 10,
   "metadata": {},
   "outputs": [],
   "source": [
    "os.environ[\"FIFTYONE_APP_PLACE\"] = \"browser\""
   ]
  },
  {
   "cell_type": "code",
   "execution_count": 13,
   "metadata": {},
   "outputs": [
    {
     "data": {
      "text/html": [
       "\n",
       "        <iframe\n",
       "            width=\"100%\"\n",
       "            height=\"800\"\n",
       "            src=\"http://localhost:5151/?notebook=True&subscription=014b6bc3-adab-4a0b-97df-f423e610a5c4\"\n",
       "            frameborder=\"0\"\n",
       "            allowfullscreen\n",
       "            \n",
       "        ></iframe>\n",
       "        "
      ],
      "text/plain": [
       "<IPython.lib.display.IFrame at 0x20866cf5460>"
      ]
     },
     "metadata": {},
     "output_type": "display_data"
    },
    {
     "data": {
      "text/plain": [
       "True"
      ]
     },
     "execution_count": 13,
     "metadata": {},
     "output_type": "execute_result"
    }
   ],
   "source": [
    "session = fo.launch_app(port=5151)\n",
    "webbrowser.open(session.url)"
   ]
  }
 ],
 "metadata": {
  "kernelspec": {
   "display_name": "AbbasThesis",
   "language": "python",
   "name": "python3"
  },
  "language_info": {
   "codemirror_mode": {
    "name": "ipython",
    "version": 3
   },
   "file_extension": ".py",
   "mimetype": "text/x-python",
   "name": "python",
   "nbconvert_exporter": "python",
   "pygments_lexer": "ipython3",
   "version": "3.12.0"
  }
 },
 "nbformat": 4,
 "nbformat_minor": 2
}
