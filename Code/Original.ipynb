{
 "cells": [
  {
   "cell_type": "code",
   "execution_count": 59,
   "metadata": {},
   "outputs": [],
   "source": [
    "import cv2\n",
    "import matplotlib.pyplot as plt\n",
    "import glob\n",
    "import os"
   ]
  },
  {
   "cell_type": "code",
   "execution_count": 60,
   "metadata": {},
   "outputs": [
    {
     "name": "stdout",
     "output_type": "stream",
     "text": [
      "['D:\\\\03___Programmierung_Projekte\\\\ExoKiWe\\\\Arshan_Labeling_COCO\\\\images\\\\0689266e-6-20-3.jpg', 'D:\\\\03___Programmierung_Projekte\\\\ExoKiWe\\\\Arshan_Labeling_COCO\\\\images\\\\06d0b5ba-6-23-1.jpg', 'D:\\\\03___Programmierung_Projekte\\\\ExoKiWe\\\\Arshan_Labeling_COCO\\\\images\\\\0cd99c25-6-34-3.jpg', 'D:\\\\03___Programmierung_Projekte\\\\ExoKiWe\\\\Arshan_Labeling_COCO\\\\images\\\\100475b1-8-10-1.jpg', 'D:\\\\03___Programmierung_Projekte\\\\ExoKiWe\\\\Arshan_Labeling_COCO\\\\images\\\\1196fd2b-6-23-3.jpg', 'D:\\\\03___Programmierung_Projekte\\\\ExoKiWe\\\\Arshan_Labeling_COCO\\\\images\\\\1429c0d3-6-13-1.jpg', 'D:\\\\03___Programmierung_Projekte\\\\ExoKiWe\\\\Arshan_Labeling_COCO\\\\images\\\\164661f5-8-9-2.jpg', 'D:\\\\03___Programmierung_Projekte\\\\ExoKiWe\\\\Arshan_Labeling_COCO\\\\images\\\\1970ae32-8-1-1.jpg', 'D:\\\\03___Programmierung_Projekte\\\\ExoKiWe\\\\Arshan_Labeling_COCO\\\\images\\\\1a03e8af-8-15-3.jpg', 'D:\\\\03___Programmierung_Projekte\\\\ExoKiWe\\\\Arshan_Labeling_COCO\\\\images\\\\1beaef5b-6-45-3.jpg', 'D:\\\\03___Programmierung_Projekte\\\\ExoKiWe\\\\Arshan_Labeling_COCO\\\\images\\\\1d80c9d0-6-35-3.jpg', 'D:\\\\03___Programmierung_Projekte\\\\ExoKiWe\\\\Arshan_Labeling_COCO\\\\images\\\\2215a705-8-14-3.jpg', 'D:\\\\03___Programmierung_Projekte\\\\ExoKiWe\\\\Arshan_Labeling_COCO\\\\images\\\\2a2e7c9c-6-44-3.jpg', 'D:\\\\03___Programmierung_Projekte\\\\ExoKiWe\\\\Arshan_Labeling_COCO\\\\images\\\\2d712500-6-9-2.jpg', 'D:\\\\03___Programmierung_Projekte\\\\ExoKiWe\\\\Arshan_Labeling_COCO\\\\images\\\\2e323aa0-6-40-2.jpg', 'D:\\\\03___Programmierung_Projekte\\\\ExoKiWe\\\\Arshan_Labeling_COCO\\\\images\\\\2e39ebf5-6-3-1.jpg', 'D:\\\\03___Programmierung_Projekte\\\\ExoKiWe\\\\Arshan_Labeling_COCO\\\\images\\\\30d7c4b0-8-15-2.jpg', 'D:\\\\03___Programmierung_Projekte\\\\ExoKiWe\\\\Arshan_Labeling_COCO\\\\images\\\\31064305-6-14-3.jpg', 'D:\\\\03___Programmierung_Projekte\\\\ExoKiWe\\\\Arshan_Labeling_COCO\\\\images\\\\3423b585-8-10-3.jpg', 'D:\\\\03___Programmierung_Projekte\\\\ExoKiWe\\\\Arshan_Labeling_COCO\\\\images\\\\38ad63fb-6-19-3.jpg', 'D:\\\\03___Programmierung_Projekte\\\\ExoKiWe\\\\Arshan_Labeling_COCO\\\\images\\\\38c1292a-6-18-1.jpg', 'D:\\\\03___Programmierung_Projekte\\\\ExoKiWe\\\\Arshan_Labeling_COCO\\\\images\\\\38cef7c9-6-40-3.jpg', 'D:\\\\03___Programmierung_Projekte\\\\ExoKiWe\\\\Arshan_Labeling_COCO\\\\images\\\\394efa31-8-9-1.jpg', 'D:\\\\03___Programmierung_Projekte\\\\ExoKiWe\\\\Arshan_Labeling_COCO\\\\images\\\\3aae916d-8-23-1.jpg', 'D:\\\\03___Programmierung_Projekte\\\\ExoKiWe\\\\Arshan_Labeling_COCO\\\\images\\\\3cf3fbfe-8-23-3.jpg', 'D:\\\\03___Programmierung_Projekte\\\\ExoKiWe\\\\Arshan_Labeling_COCO\\\\images\\\\3e27074d-6-1-2.jpg', 'D:\\\\03___Programmierung_Projekte\\\\ExoKiWe\\\\Arshan_Labeling_COCO\\\\images\\\\3eab5172-8-18-1.jpg', 'D:\\\\03___Programmierung_Projekte\\\\ExoKiWe\\\\Arshan_Labeling_COCO\\\\images\\\\3fc11c0d-6-47-2.jpg', 'D:\\\\03___Programmierung_Projekte\\\\ExoKiWe\\\\Arshan_Labeling_COCO\\\\images\\\\4552a744-6-24-1.jpg', 'D:\\\\03___Programmierung_Projekte\\\\ExoKiWe\\\\Arshan_Labeling_COCO\\\\images\\\\4d8ac358-8-1-2.jpg', 'D:\\\\03___Programmierung_Projekte\\\\ExoKiWe\\\\Arshan_Labeling_COCO\\\\images\\\\4e7c8339-8-8-2.jpg', 'D:\\\\03___Programmierung_Projekte\\\\ExoKiWe\\\\Arshan_Labeling_COCO\\\\images\\\\4f499c6c-6-14-1.jpg', 'D:\\\\03___Programmierung_Projekte\\\\ExoKiWe\\\\Arshan_Labeling_COCO\\\\images\\\\4f94a15d-6-24-3.jpg', 'D:\\\\03___Programmierung_Projekte\\\\ExoKiWe\\\\Arshan_Labeling_COCO\\\\images\\\\515b79a8-8-24-3.jpg', 'D:\\\\03___Programmierung_Projekte\\\\ExoKiWe\\\\Arshan_Labeling_COCO\\\\images\\\\520c1edd-8-24-1.jpg', 'D:\\\\03___Programmierung_Projekte\\\\ExoKiWe\\\\Arshan_Labeling_COCO\\\\images\\\\53468dbb-6-34-2.jpg', 'D:\\\\03___Programmierung_Projekte\\\\ExoKiWe\\\\Arshan_Labeling_COCO\\\\images\\\\5434e4cc-8-14-1.jpg', 'D:\\\\03___Programmierung_Projekte\\\\ExoKiWe\\\\Arshan_Labeling_COCO\\\\images\\\\55ef6392-8-6-2.jpg', 'D:\\\\03___Programmierung_Projekte\\\\ExoKiWe\\\\Arshan_Labeling_COCO\\\\images\\\\56015632-8-20-1.jpg', 'D:\\\\03___Programmierung_Projekte\\\\ExoKiWe\\\\Arshan_Labeling_COCO\\\\images\\\\565fdf66-6-20-2.jpg', 'D:\\\\03___Programmierung_Projekte\\\\ExoKiWe\\\\Arshan_Labeling_COCO\\\\images\\\\56c66888-8-14-2.jpg', 'D:\\\\03___Programmierung_Projekte\\\\ExoKiWe\\\\Arshan_Labeling_COCO\\\\images\\\\5e87e4b5-6-15-1.jpg', 'D:\\\\03___Programmierung_Projekte\\\\ExoKiWe\\\\Arshan_Labeling_COCO\\\\images\\\\5fda20bd-6-37-1.jpg', 'D:\\\\03___Programmierung_Projekte\\\\ExoKiWe\\\\Arshan_Labeling_COCO\\\\images\\\\681ea2bf-6-10-1.jpg', 'D:\\\\03___Programmierung_Projekte\\\\ExoKiWe\\\\Arshan_Labeling_COCO\\\\images\\\\6c5aee16-8-3-2.jpg', 'D:\\\\03___Programmierung_Projekte\\\\ExoKiWe\\\\Arshan_Labeling_COCO\\\\images\\\\6c9af6c2-6-37-3.jpg', 'D:\\\\03___Programmierung_Projekte\\\\ExoKiWe\\\\Arshan_Labeling_COCO\\\\images\\\\6f99e581-6-39-1.jpg', 'D:\\\\03___Programmierung_Projekte\\\\ExoKiWe\\\\Arshan_Labeling_COCO\\\\images\\\\72ea41d4-8-3-3.jpg', 'D:\\\\03___Programmierung_Projekte\\\\ExoKiWe\\\\Arshan_Labeling_COCO\\\\images\\\\73f3e408-6-34-1.jpg', 'D:\\\\03___Programmierung_Projekte\\\\ExoKiWe\\\\Arshan_Labeling_COCO\\\\images\\\\75d336fd-6-8-1.jpg', 'D:\\\\03___Programmierung_Projekte\\\\ExoKiWe\\\\Arshan_Labeling_COCO\\\\images\\\\76881978-8-13-1.jpg', 'D:\\\\03___Programmierung_Projekte\\\\ExoKiWe\\\\Arshan_Labeling_COCO\\\\images\\\\7abc8cec-8-18-3.jpg', 'D:\\\\03___Programmierung_Projekte\\\\ExoKiWe\\\\Arshan_Labeling_COCO\\\\images\\\\7c108eaa-8-20-3.jpg', 'D:\\\\03___Programmierung_Projekte\\\\ExoKiWe\\\\Arshan_Labeling_COCO\\\\images\\\\7ed8931a-8-23-2.jpg', 'D:\\\\03___Programmierung_Projekte\\\\ExoKiWe\\\\Arshan_Labeling_COCO\\\\images\\\\800fbf91-8-15-1.jpg', 'D:\\\\03___Programmierung_Projekte\\\\ExoKiWe\\\\Arshan_Labeling_COCO\\\\images\\\\824c508a-8-13-3.jpg', 'D:\\\\03___Programmierung_Projekte\\\\ExoKiWe\\\\Arshan_Labeling_COCO\\\\images\\\\827af251-8-9-3.jpg', 'D:\\\\03___Programmierung_Projekte\\\\ExoKiWe\\\\Arshan_Labeling_COCO\\\\images\\\\86d0dfbb-6-15-2.jpg', 'D:\\\\03___Programmierung_Projekte\\\\ExoKiWe\\\\Arshan_Labeling_COCO\\\\images\\\\8714271e-6-36-1.jpg', 'D:\\\\03___Programmierung_Projekte\\\\ExoKiWe\\\\Arshan_Labeling_COCO\\\\images\\\\87c06a41-8-20-2.jpg', 'D:\\\\03___Programmierung_Projekte\\\\ExoKiWe\\\\Arshan_Labeling_COCO\\\\images\\\\88cee3ee-8-18-2.jpg', 'D:\\\\03___Programmierung_Projekte\\\\ExoKiWe\\\\Arshan_Labeling_COCO\\\\images\\\\8c13343b-6-36-3.jpg', 'D:\\\\03___Programmierung_Projekte\\\\ExoKiWe\\\\Arshan_Labeling_COCO\\\\images\\\\8d9514d7-6-47-3.jpg', 'D:\\\\03___Programmierung_Projekte\\\\ExoKiWe\\\\Arshan_Labeling_COCO\\\\images\\\\8dd5b7ae-6-44-2.jpg', 'D:\\\\03___Programmierung_Projekte\\\\ExoKiWe\\\\Arshan_Labeling_COCO\\\\images\\\\9016de28-8-3-1.jpg', 'D:\\\\03___Programmierung_Projekte\\\\ExoKiWe\\\\Arshan_Labeling_COCO\\\\images\\\\90284008-6-1-3.jpg', 'D:\\\\03___Programmierung_Projekte\\\\ExoKiWe\\\\Arshan_Labeling_COCO\\\\images\\\\90c36e02-6-25-1.jpg', 'D:\\\\03___Programmierung_Projekte\\\\ExoKiWe\\\\Arshan_Labeling_COCO\\\\images\\\\93c3747a-8-24-2.jpg', 'D:\\\\03___Programmierung_Projekte\\\\ExoKiWe\\\\Arshan_Labeling_COCO\\\\images\\\\9484369b-6-15-3.jpg', 'D:\\\\03___Programmierung_Projekte\\\\ExoKiWe\\\\Arshan_Labeling_COCO\\\\images\\\\9a2e4de4-6-23-2.jpg', 'D:\\\\03___Programmierung_Projekte\\\\ExoKiWe\\\\Arshan_Labeling_COCO\\\\images\\\\9df3ec05-6-10-2.jpg', 'D:\\\\03___Programmierung_Projekte\\\\ExoKiWe\\\\Arshan_Labeling_COCO\\\\images\\\\a27f6ed4-6-24-2.jpg', 'D:\\\\03___Programmierung_Projekte\\\\ExoKiWe\\\\Arshan_Labeling_COCO\\\\images\\\\a72556cd-8-13-2.jpg', 'D:\\\\03___Programmierung_Projekte\\\\ExoKiWe\\\\Arshan_Labeling_COCO\\\\images\\\\a7824999-6-18-3.jpg', 'D:\\\\03___Programmierung_Projekte\\\\ExoKiWe\\\\Arshan_Labeling_COCO\\\\images\\\\a7d7172c-6-9-3.jpg', 'D:\\\\03___Programmierung_Projekte\\\\ExoKiWe\\\\Arshan_Labeling_COCO\\\\images\\\\a87db7a2-8-8-1.jpg', 'D:\\\\03___Programmierung_Projekte\\\\ExoKiWe\\\\Arshan_Labeling_COCO\\\\images\\\\aa5a5483-6-47-1.jpg', 'D:\\\\03___Programmierung_Projekte\\\\ExoKiWe\\\\Arshan_Labeling_COCO\\\\images\\\\ae0ecd48-6-1-1.jpg', 'D:\\\\03___Programmierung_Projekte\\\\ExoKiWe\\\\Arshan_Labeling_COCO\\\\images\\\\b04a7353-8-19-2.jpg', 'D:\\\\03___Programmierung_Projekte\\\\ExoKiWe\\\\Arshan_Labeling_COCO\\\\images\\\\b0888e40-6-40-1.jpg', 'D:\\\\03___Programmierung_Projekte\\\\ExoKiWe\\\\Arshan_Labeling_COCO\\\\images\\\\b3b60fbe-6-45-2.jpg', 'D:\\\\03___Programmierung_Projekte\\\\ExoKiWe\\\\Arshan_Labeling_COCO\\\\images\\\\b9fa1e8b-6-35-1.jpg', 'D:\\\\03___Programmierung_Projekte\\\\ExoKiWe\\\\Arshan_Labeling_COCO\\\\images\\\\ba290f33-6-3-2.jpg', 'D:\\\\03___Programmierung_Projekte\\\\ExoKiWe\\\\Arshan_Labeling_COCO\\\\images\\\\bbd82200-6-19-1.jpg', 'D:\\\\03___Programmierung_Projekte\\\\ExoKiWe\\\\Arshan_Labeling_COCO\\\\images\\\\bc610241-8-25-1.jpg', 'D:\\\\03___Programmierung_Projekte\\\\ExoKiWe\\\\Arshan_Labeling_COCO\\\\images\\\\be14353b-6-25-3.jpg', 'D:\\\\03___Programmierung_Projekte\\\\ExoKiWe\\\\Arshan_Labeling_COCO\\\\images\\\\bfb0cb0c-6-39-2.jpg', 'D:\\\\03___Programmierung_Projekte\\\\ExoKiWe\\\\Arshan_Labeling_COCO\\\\images\\\\c0fbe1b0-6-35-2.jpg', 'D:\\\\03___Programmierung_Projekte\\\\ExoKiWe\\\\Arshan_Labeling_COCO\\\\images\\\\c1562f40-6-45-1.jpg', 'D:\\\\03___Programmierung_Projekte\\\\ExoKiWe\\\\Arshan_Labeling_COCO\\\\images\\\\c21f9700-6-31-3.jpg', 'D:\\\\03___Programmierung_Projekte\\\\ExoKiWe\\\\Arshan_Labeling_COCO\\\\images\\\\c276da31-6-31-1.jpg', 'D:\\\\03___Programmierung_Projekte\\\\ExoKiWe\\\\Arshan_Labeling_COCO\\\\images\\\\c41d837a-8-8-3.jpg', 'D:\\\\03___Programmierung_Projekte\\\\ExoKiWe\\\\Arshan_Labeling_COCO\\\\images\\\\c514b6eb-6-8-2.jpg', 'D:\\\\03___Programmierung_Projekte\\\\ExoKiWe\\\\Arshan_Labeling_COCO\\\\images\\\\c7bbad6c-6-14-2.jpg', 'D:\\\\03___Programmierung_Projekte\\\\ExoKiWe\\\\Arshan_Labeling_COCO\\\\images\\\\c979a407-8-19-1.jpg', 'D:\\\\03___Programmierung_Projekte\\\\ExoKiWe\\\\Arshan_Labeling_COCO\\\\images\\\\cc026507-6-19-2.jpg', 'D:\\\\03___Programmierung_Projekte\\\\ExoKiWe\\\\Arshan_Labeling_COCO\\\\images\\\\ccc55cfa-8-19-3.jpg', 'D:\\\\03___Programmierung_Projekte\\\\ExoKiWe\\\\Arshan_Labeling_COCO\\\\images\\\\d0ef9122-6-8-3.jpg', 'D:\\\\03___Programmierung_Projekte\\\\ExoKiWe\\\\Arshan_Labeling_COCO\\\\images\\\\d3a5a3cc-6-31-2.jpg', 'D:\\\\03___Programmierung_Projekte\\\\ExoKiWe\\\\Arshan_Labeling_COCO\\\\images\\\\d6a99040-6-18-2.jpg', 'D:\\\\03___Programmierung_Projekte\\\\ExoKiWe\\\\Arshan_Labeling_COCO\\\\images\\\\dc4b8785-8-10-2.jpg', 'D:\\\\03___Programmierung_Projekte\\\\ExoKiWe\\\\Arshan_Labeling_COCO\\\\images\\\\dcc5f0b6-8-1-3.jpg', 'D:\\\\03___Programmierung_Projekte\\\\ExoKiWe\\\\Arshan_Labeling_COCO\\\\images\\\\dd532fef-6-37-2.jpg', 'D:\\\\03___Programmierung_Projekte\\\\ExoKiWe\\\\Arshan_Labeling_COCO\\\\images\\\\df7d6d07-6-3-3.jpg', 'D:\\\\03___Programmierung_Projekte\\\\ExoKiWe\\\\Arshan_Labeling_COCO\\\\images\\\\df80dea4-6-10-3.jpg', 'D:\\\\03___Programmierung_Projekte\\\\ExoKiWe\\\\Arshan_Labeling_COCO\\\\images\\\\e2bd7347-6-13-2.jpg', 'D:\\\\03___Programmierung_Projekte\\\\ExoKiWe\\\\Arshan_Labeling_COCO\\\\images\\\\e5835d5f-6-13-3.jpg', 'D:\\\\03___Programmierung_Projekte\\\\ExoKiWe\\\\Arshan_Labeling_COCO\\\\images\\\\e7c1772b-8-6-1.jpg', 'D:\\\\03___Programmierung_Projekte\\\\ExoKiWe\\\\Arshan_Labeling_COCO\\\\images\\\\ee4a9ef8-8-6-3.jpg', 'D:\\\\03___Programmierung_Projekte\\\\ExoKiWe\\\\Arshan_Labeling_COCO\\\\images\\\\eeeb6f5a-6-25-2.jpg', 'D:\\\\03___Programmierung_Projekte\\\\ExoKiWe\\\\Arshan_Labeling_COCO\\\\images\\\\f74e2bf0-6-9-1.jpg', 'D:\\\\03___Programmierung_Projekte\\\\ExoKiWe\\\\Arshan_Labeling_COCO\\\\images\\\\f78568ec-6-44-1.jpg', 'D:\\\\03___Programmierung_Projekte\\\\ExoKiWe\\\\Arshan_Labeling_COCO\\\\images\\\\f8fd1b84-6-20-1.jpg', 'D:\\\\03___Programmierung_Projekte\\\\ExoKiWe\\\\Arshan_Labeling_COCO\\\\images\\\\fdb1e6c7-6-36-2.jpg', 'D:\\\\03___Programmierung_Projekte\\\\ExoKiWe\\\\Arshan_Labeling_COCO\\\\images\\\\fe2a57a6-6-39-3.jpg']\n"
     ]
    }
   ],
   "source": [
    "img_files = glob.glob(r\"D:\\03___Programmierung_Projekte\\ExoKiWe\\Arshan_Labeling_COCO\\images\\*.jpg\"\t)\n",
    "print(img_files)"
   ]
  },
  {
   "cell_type": "code",
   "execution_count": 64,
   "metadata": {},
   "outputs": [
    {
     "data": {
      "text/plain": [
       "882.0"
      ]
     },
     "execution_count": 64,
     "metadata": {},
     "output_type": "execute_result"
    }
   ],
   "source": [
    "y"
   ]
  },
  {
   "cell_type": "code",
   "execution_count": 61,
   "metadata": {},
   "outputs": [
    {
     "name": "stdout",
     "output_type": "stream",
     "text": [
      "D:\\03___Programmierung_Projekte\\ExoKiWe\\Arshan_Labeling_COCO\\cropped_images\\0689266e-6-20-3.jpg\n",
      "True\n",
      "D:\\03___Programmierung_Projekte\\ExoKiWe\\Arshan_Labeling_COCO\\cropped_images\\06d0b5ba-6-23-1.jpg\n",
      "True\n",
      "D:\\03___Programmierung_Projekte\\ExoKiWe\\Arshan_Labeling_COCO\\cropped_images\\0cd99c25-6-34-3.jpg\n",
      "True\n",
      "D:\\03___Programmierung_Projekte\\ExoKiWe\\Arshan_Labeling_COCO\\cropped_images\\100475b1-8-10-1.jpg\n",
      "True\n",
      "D:\\03___Programmierung_Projekte\\ExoKiWe\\Arshan_Labeling_COCO\\cropped_images\\1196fd2b-6-23-3.jpg\n",
      "True\n",
      "D:\\03___Programmierung_Projekte\\ExoKiWe\\Arshan_Labeling_COCO\\cropped_images\\1429c0d3-6-13-1.jpg\n",
      "True\n",
      "D:\\03___Programmierung_Projekte\\ExoKiWe\\Arshan_Labeling_COCO\\cropped_images\\164661f5-8-9-2.jpg\n",
      "True\n",
      "D:\\03___Programmierung_Projekte\\ExoKiWe\\Arshan_Labeling_COCO\\cropped_images\\1970ae32-8-1-1.jpg\n",
      "True\n",
      "D:\\03___Programmierung_Projekte\\ExoKiWe\\Arshan_Labeling_COCO\\cropped_images\\1a03e8af-8-15-3.jpg\n",
      "True\n",
      "D:\\03___Programmierung_Projekte\\ExoKiWe\\Arshan_Labeling_COCO\\cropped_images\\1beaef5b-6-45-3.jpg\n",
      "True\n",
      "D:\\03___Programmierung_Projekte\\ExoKiWe\\Arshan_Labeling_COCO\\cropped_images\\1d80c9d0-6-35-3.jpg\n",
      "True\n",
      "D:\\03___Programmierung_Projekte\\ExoKiWe\\Arshan_Labeling_COCO\\cropped_images\\2215a705-8-14-3.jpg\n",
      "True\n",
      "D:\\03___Programmierung_Projekte\\ExoKiWe\\Arshan_Labeling_COCO\\cropped_images\\2a2e7c9c-6-44-3.jpg\n",
      "True\n",
      "D:\\03___Programmierung_Projekte\\ExoKiWe\\Arshan_Labeling_COCO\\cropped_images\\2d712500-6-9-2.jpg\n",
      "True\n",
      "D:\\03___Programmierung_Projekte\\ExoKiWe\\Arshan_Labeling_COCO\\cropped_images\\2e323aa0-6-40-2.jpg\n",
      "True\n",
      "D:\\03___Programmierung_Projekte\\ExoKiWe\\Arshan_Labeling_COCO\\cropped_images\\2e39ebf5-6-3-1.jpg\n",
      "True\n",
      "D:\\03___Programmierung_Projekte\\ExoKiWe\\Arshan_Labeling_COCO\\cropped_images\\30d7c4b0-8-15-2.jpg\n",
      "True\n",
      "D:\\03___Programmierung_Projekte\\ExoKiWe\\Arshan_Labeling_COCO\\cropped_images\\31064305-6-14-3.jpg\n",
      "True\n",
      "D:\\03___Programmierung_Projekte\\ExoKiWe\\Arshan_Labeling_COCO\\cropped_images\\3423b585-8-10-3.jpg\n",
      "True\n",
      "D:\\03___Programmierung_Projekte\\ExoKiWe\\Arshan_Labeling_COCO\\cropped_images\\38ad63fb-6-19-3.jpg\n",
      "True\n",
      "D:\\03___Programmierung_Projekte\\ExoKiWe\\Arshan_Labeling_COCO\\cropped_images\\38c1292a-6-18-1.jpg\n",
      "True\n",
      "D:\\03___Programmierung_Projekte\\ExoKiWe\\Arshan_Labeling_COCO\\cropped_images\\38cef7c9-6-40-3.jpg\n",
      "True\n",
      "D:\\03___Programmierung_Projekte\\ExoKiWe\\Arshan_Labeling_COCO\\cropped_images\\394efa31-8-9-1.jpg\n",
      "True\n",
      "D:\\03___Programmierung_Projekte\\ExoKiWe\\Arshan_Labeling_COCO\\cropped_images\\3aae916d-8-23-1.jpg\n",
      "True\n",
      "D:\\03___Programmierung_Projekte\\ExoKiWe\\Arshan_Labeling_COCO\\cropped_images\\3cf3fbfe-8-23-3.jpg\n",
      "True\n",
      "D:\\03___Programmierung_Projekte\\ExoKiWe\\Arshan_Labeling_COCO\\cropped_images\\3e27074d-6-1-2.jpg\n",
      "True\n",
      "D:\\03___Programmierung_Projekte\\ExoKiWe\\Arshan_Labeling_COCO\\cropped_images\\3eab5172-8-18-1.jpg\n",
      "True\n",
      "D:\\03___Programmierung_Projekte\\ExoKiWe\\Arshan_Labeling_COCO\\cropped_images\\3fc11c0d-6-47-2.jpg\n",
      "True\n",
      "D:\\03___Programmierung_Projekte\\ExoKiWe\\Arshan_Labeling_COCO\\cropped_images\\4552a744-6-24-1.jpg\n",
      "True\n",
      "D:\\03___Programmierung_Projekte\\ExoKiWe\\Arshan_Labeling_COCO\\cropped_images\\4d8ac358-8-1-2.jpg\n",
      "True\n",
      "D:\\03___Programmierung_Projekte\\ExoKiWe\\Arshan_Labeling_COCO\\cropped_images\\4e7c8339-8-8-2.jpg\n",
      "True\n",
      "D:\\03___Programmierung_Projekte\\ExoKiWe\\Arshan_Labeling_COCO\\cropped_images\\4f499c6c-6-14-1.jpg\n",
      "True\n",
      "D:\\03___Programmierung_Projekte\\ExoKiWe\\Arshan_Labeling_COCO\\cropped_images\\4f94a15d-6-24-3.jpg\n",
      "True\n",
      "D:\\03___Programmierung_Projekte\\ExoKiWe\\Arshan_Labeling_COCO\\cropped_images\\515b79a8-8-24-3.jpg\n",
      "True\n",
      "D:\\03___Programmierung_Projekte\\ExoKiWe\\Arshan_Labeling_COCO\\cropped_images\\520c1edd-8-24-1.jpg\n",
      "True\n",
      "D:\\03___Programmierung_Projekte\\ExoKiWe\\Arshan_Labeling_COCO\\cropped_images\\53468dbb-6-34-2.jpg\n",
      "True\n",
      "D:\\03___Programmierung_Projekte\\ExoKiWe\\Arshan_Labeling_COCO\\cropped_images\\5434e4cc-8-14-1.jpg\n",
      "True\n",
      "D:\\03___Programmierung_Projekte\\ExoKiWe\\Arshan_Labeling_COCO\\cropped_images\\55ef6392-8-6-2.jpg\n",
      "True\n",
      "D:\\03___Programmierung_Projekte\\ExoKiWe\\Arshan_Labeling_COCO\\cropped_images\\56015632-8-20-1.jpg\n",
      "True\n",
      "D:\\03___Programmierung_Projekte\\ExoKiWe\\Arshan_Labeling_COCO\\cropped_images\\565fdf66-6-20-2.jpg\n",
      "True\n",
      "D:\\03___Programmierung_Projekte\\ExoKiWe\\Arshan_Labeling_COCO\\cropped_images\\56c66888-8-14-2.jpg\n",
      "True\n",
      "D:\\03___Programmierung_Projekte\\ExoKiWe\\Arshan_Labeling_COCO\\cropped_images\\5e87e4b5-6-15-1.jpg\n",
      "True\n",
      "D:\\03___Programmierung_Projekte\\ExoKiWe\\Arshan_Labeling_COCO\\cropped_images\\5fda20bd-6-37-1.jpg\n",
      "True\n",
      "D:\\03___Programmierung_Projekte\\ExoKiWe\\Arshan_Labeling_COCO\\cropped_images\\681ea2bf-6-10-1.jpg\n",
      "True\n",
      "D:\\03___Programmierung_Projekte\\ExoKiWe\\Arshan_Labeling_COCO\\cropped_images\\6c5aee16-8-3-2.jpg\n",
      "True\n",
      "D:\\03___Programmierung_Projekte\\ExoKiWe\\Arshan_Labeling_COCO\\cropped_images\\6c9af6c2-6-37-3.jpg\n",
      "True\n",
      "D:\\03___Programmierung_Projekte\\ExoKiWe\\Arshan_Labeling_COCO\\cropped_images\\6f99e581-6-39-1.jpg\n",
      "True\n",
      "D:\\03___Programmierung_Projekte\\ExoKiWe\\Arshan_Labeling_COCO\\cropped_images\\72ea41d4-8-3-3.jpg\n",
      "True\n",
      "D:\\03___Programmierung_Projekte\\ExoKiWe\\Arshan_Labeling_COCO\\cropped_images\\73f3e408-6-34-1.jpg\n",
      "True\n",
      "D:\\03___Programmierung_Projekte\\ExoKiWe\\Arshan_Labeling_COCO\\cropped_images\\75d336fd-6-8-1.jpg\n",
      "True\n",
      "D:\\03___Programmierung_Projekte\\ExoKiWe\\Arshan_Labeling_COCO\\cropped_images\\76881978-8-13-1.jpg\n",
      "True\n",
      "D:\\03___Programmierung_Projekte\\ExoKiWe\\Arshan_Labeling_COCO\\cropped_images\\7abc8cec-8-18-3.jpg\n",
      "True\n",
      "D:\\03___Programmierung_Projekte\\ExoKiWe\\Arshan_Labeling_COCO\\cropped_images\\7c108eaa-8-20-3.jpg\n",
      "True\n",
      "D:\\03___Programmierung_Projekte\\ExoKiWe\\Arshan_Labeling_COCO\\cropped_images\\7ed8931a-8-23-2.jpg\n",
      "True\n",
      "D:\\03___Programmierung_Projekte\\ExoKiWe\\Arshan_Labeling_COCO\\cropped_images\\800fbf91-8-15-1.jpg\n",
      "True\n",
      "D:\\03___Programmierung_Projekte\\ExoKiWe\\Arshan_Labeling_COCO\\cropped_images\\824c508a-8-13-3.jpg\n",
      "True\n",
      "D:\\03___Programmierung_Projekte\\ExoKiWe\\Arshan_Labeling_COCO\\cropped_images\\827af251-8-9-3.jpg\n",
      "True\n",
      "D:\\03___Programmierung_Projekte\\ExoKiWe\\Arshan_Labeling_COCO\\cropped_images\\86d0dfbb-6-15-2.jpg\n",
      "True\n",
      "D:\\03___Programmierung_Projekte\\ExoKiWe\\Arshan_Labeling_COCO\\cropped_images\\8714271e-6-36-1.jpg\n",
      "True\n",
      "D:\\03___Programmierung_Projekte\\ExoKiWe\\Arshan_Labeling_COCO\\cropped_images\\87c06a41-8-20-2.jpg\n",
      "True\n",
      "D:\\03___Programmierung_Projekte\\ExoKiWe\\Arshan_Labeling_COCO\\cropped_images\\88cee3ee-8-18-2.jpg\n",
      "True\n",
      "D:\\03___Programmierung_Projekte\\ExoKiWe\\Arshan_Labeling_COCO\\cropped_images\\8c13343b-6-36-3.jpg\n",
      "True\n",
      "D:\\03___Programmierung_Projekte\\ExoKiWe\\Arshan_Labeling_COCO\\cropped_images\\8d9514d7-6-47-3.jpg\n",
      "True\n",
      "D:\\03___Programmierung_Projekte\\ExoKiWe\\Arshan_Labeling_COCO\\cropped_images\\8dd5b7ae-6-44-2.jpg\n",
      "True\n",
      "D:\\03___Programmierung_Projekte\\ExoKiWe\\Arshan_Labeling_COCO\\cropped_images\\9016de28-8-3-1.jpg\n",
      "True\n",
      "D:\\03___Programmierung_Projekte\\ExoKiWe\\Arshan_Labeling_COCO\\cropped_images\\90284008-6-1-3.jpg\n",
      "True\n",
      "D:\\03___Programmierung_Projekte\\ExoKiWe\\Arshan_Labeling_COCO\\cropped_images\\90c36e02-6-25-1.jpg\n",
      "True\n",
      "D:\\03___Programmierung_Projekte\\ExoKiWe\\Arshan_Labeling_COCO\\cropped_images\\93c3747a-8-24-2.jpg\n",
      "True\n",
      "D:\\03___Programmierung_Projekte\\ExoKiWe\\Arshan_Labeling_COCO\\cropped_images\\9484369b-6-15-3.jpg\n",
      "True\n",
      "D:\\03___Programmierung_Projekte\\ExoKiWe\\Arshan_Labeling_COCO\\cropped_images\\9a2e4de4-6-23-2.jpg\n",
      "True\n",
      "D:\\03___Programmierung_Projekte\\ExoKiWe\\Arshan_Labeling_COCO\\cropped_images\\9df3ec05-6-10-2.jpg\n",
      "True\n",
      "D:\\03___Programmierung_Projekte\\ExoKiWe\\Arshan_Labeling_COCO\\cropped_images\\a27f6ed4-6-24-2.jpg\n",
      "True\n",
      "D:\\03___Programmierung_Projekte\\ExoKiWe\\Arshan_Labeling_COCO\\cropped_images\\a72556cd-8-13-2.jpg\n",
      "True\n",
      "D:\\03___Programmierung_Projekte\\ExoKiWe\\Arshan_Labeling_COCO\\cropped_images\\a7824999-6-18-3.jpg\n",
      "True\n",
      "D:\\03___Programmierung_Projekte\\ExoKiWe\\Arshan_Labeling_COCO\\cropped_images\\a7d7172c-6-9-3.jpg\n",
      "True\n",
      "D:\\03___Programmierung_Projekte\\ExoKiWe\\Arshan_Labeling_COCO\\cropped_images\\a87db7a2-8-8-1.jpg\n",
      "True\n",
      "D:\\03___Programmierung_Projekte\\ExoKiWe\\Arshan_Labeling_COCO\\cropped_images\\aa5a5483-6-47-1.jpg\n",
      "True\n",
      "D:\\03___Programmierung_Projekte\\ExoKiWe\\Arshan_Labeling_COCO\\cropped_images\\ae0ecd48-6-1-1.jpg\n",
      "True\n",
      "D:\\03___Programmierung_Projekte\\ExoKiWe\\Arshan_Labeling_COCO\\cropped_images\\b04a7353-8-19-2.jpg\n",
      "True\n",
      "D:\\03___Programmierung_Projekte\\ExoKiWe\\Arshan_Labeling_COCO\\cropped_images\\b0888e40-6-40-1.jpg\n",
      "True\n",
      "D:\\03___Programmierung_Projekte\\ExoKiWe\\Arshan_Labeling_COCO\\cropped_images\\b3b60fbe-6-45-2.jpg\n",
      "True\n",
      "D:\\03___Programmierung_Projekte\\ExoKiWe\\Arshan_Labeling_COCO\\cropped_images\\b9fa1e8b-6-35-1.jpg\n",
      "True\n",
      "D:\\03___Programmierung_Projekte\\ExoKiWe\\Arshan_Labeling_COCO\\cropped_images\\ba290f33-6-3-2.jpg\n",
      "True\n",
      "D:\\03___Programmierung_Projekte\\ExoKiWe\\Arshan_Labeling_COCO\\cropped_images\\bbd82200-6-19-1.jpg\n",
      "True\n",
      "D:\\03___Programmierung_Projekte\\ExoKiWe\\Arshan_Labeling_COCO\\cropped_images\\bc610241-8-25-1.jpg\n",
      "True\n",
      "D:\\03___Programmierung_Projekte\\ExoKiWe\\Arshan_Labeling_COCO\\cropped_images\\be14353b-6-25-3.jpg\n",
      "True\n",
      "D:\\03___Programmierung_Projekte\\ExoKiWe\\Arshan_Labeling_COCO\\cropped_images\\bfb0cb0c-6-39-2.jpg\n",
      "True\n",
      "D:\\03___Programmierung_Projekte\\ExoKiWe\\Arshan_Labeling_COCO\\cropped_images\\c0fbe1b0-6-35-2.jpg\n",
      "True\n",
      "D:\\03___Programmierung_Projekte\\ExoKiWe\\Arshan_Labeling_COCO\\cropped_images\\c1562f40-6-45-1.jpg\n",
      "True\n",
      "D:\\03___Programmierung_Projekte\\ExoKiWe\\Arshan_Labeling_COCO\\cropped_images\\c21f9700-6-31-3.jpg\n",
      "True\n",
      "D:\\03___Programmierung_Projekte\\ExoKiWe\\Arshan_Labeling_COCO\\cropped_images\\c276da31-6-31-1.jpg\n",
      "True\n",
      "D:\\03___Programmierung_Projekte\\ExoKiWe\\Arshan_Labeling_COCO\\cropped_images\\c41d837a-8-8-3.jpg\n",
      "True\n",
      "D:\\03___Programmierung_Projekte\\ExoKiWe\\Arshan_Labeling_COCO\\cropped_images\\c514b6eb-6-8-2.jpg\n",
      "True\n",
      "D:\\03___Programmierung_Projekte\\ExoKiWe\\Arshan_Labeling_COCO\\cropped_images\\c7bbad6c-6-14-2.jpg\n",
      "True\n",
      "D:\\03___Programmierung_Projekte\\ExoKiWe\\Arshan_Labeling_COCO\\cropped_images\\c979a407-8-19-1.jpg\n",
      "True\n",
      "D:\\03___Programmierung_Projekte\\ExoKiWe\\Arshan_Labeling_COCO\\cropped_images\\cc026507-6-19-2.jpg\n",
      "True\n",
      "D:\\03___Programmierung_Projekte\\ExoKiWe\\Arshan_Labeling_COCO\\cropped_images\\ccc55cfa-8-19-3.jpg\n",
      "True\n",
      "D:\\03___Programmierung_Projekte\\ExoKiWe\\Arshan_Labeling_COCO\\cropped_images\\d0ef9122-6-8-3.jpg\n",
      "True\n",
      "D:\\03___Programmierung_Projekte\\ExoKiWe\\Arshan_Labeling_COCO\\cropped_images\\d3a5a3cc-6-31-2.jpg\n",
      "True\n",
      "D:\\03___Programmierung_Projekte\\ExoKiWe\\Arshan_Labeling_COCO\\cropped_images\\d6a99040-6-18-2.jpg\n",
      "True\n",
      "D:\\03___Programmierung_Projekte\\ExoKiWe\\Arshan_Labeling_COCO\\cropped_images\\dc4b8785-8-10-2.jpg\n",
      "True\n",
      "D:\\03___Programmierung_Projekte\\ExoKiWe\\Arshan_Labeling_COCO\\cropped_images\\dcc5f0b6-8-1-3.jpg\n",
      "True\n",
      "D:\\03___Programmierung_Projekte\\ExoKiWe\\Arshan_Labeling_COCO\\cropped_images\\dd532fef-6-37-2.jpg\n",
      "True\n",
      "D:\\03___Programmierung_Projekte\\ExoKiWe\\Arshan_Labeling_COCO\\cropped_images\\df7d6d07-6-3-3.jpg\n",
      "True\n",
      "D:\\03___Programmierung_Projekte\\ExoKiWe\\Arshan_Labeling_COCO\\cropped_images\\df80dea4-6-10-3.jpg\n",
      "True\n",
      "D:\\03___Programmierung_Projekte\\ExoKiWe\\Arshan_Labeling_COCO\\cropped_images\\e2bd7347-6-13-2.jpg\n",
      "True\n",
      "D:\\03___Programmierung_Projekte\\ExoKiWe\\Arshan_Labeling_COCO\\cropped_images\\e5835d5f-6-13-3.jpg\n",
      "True\n",
      "D:\\03___Programmierung_Projekte\\ExoKiWe\\Arshan_Labeling_COCO\\cropped_images\\e7c1772b-8-6-1.jpg\n",
      "True\n",
      "D:\\03___Programmierung_Projekte\\ExoKiWe\\Arshan_Labeling_COCO\\cropped_images\\ee4a9ef8-8-6-3.jpg\n",
      "True\n",
      "D:\\03___Programmierung_Projekte\\ExoKiWe\\Arshan_Labeling_COCO\\cropped_images\\eeeb6f5a-6-25-2.jpg\n",
      "True\n",
      "D:\\03___Programmierung_Projekte\\ExoKiWe\\Arshan_Labeling_COCO\\cropped_images\\f74e2bf0-6-9-1.jpg\n",
      "True\n",
      "D:\\03___Programmierung_Projekte\\ExoKiWe\\Arshan_Labeling_COCO\\cropped_images\\f78568ec-6-44-1.jpg\n",
      "True\n",
      "D:\\03___Programmierung_Projekte\\ExoKiWe\\Arshan_Labeling_COCO\\cropped_images\\f8fd1b84-6-20-1.jpg\n",
      "True\n",
      "D:\\03___Programmierung_Projekte\\ExoKiWe\\Arshan_Labeling_COCO\\cropped_images\\fdb1e6c7-6-36-2.jpg\n",
      "True\n",
      "D:\\03___Programmierung_Projekte\\ExoKiWe\\Arshan_Labeling_COCO\\cropped_images\\fe2a57a6-6-39-3.jpg\n",
      "True\n"
     ]
    }
   ],
   "source": [
    "for img_file in img_files:\n",
    "    img = cv2.imread(img_file)\n",
    "    center = img.shape\n",
    "    h = img.shape[1]\n",
    "    y = center[0]/2 - h/2\n",
    "\n",
    "    \n",
    "    crop_img = img[int(y):int(y+h),:]\n",
    "    \n",
    "    print(img_file.replace(\"images\",\"cropped_images\"))\n",
    "    \n",
    "    print(cv2.imwrite(os.path.join(r\"D:\\\\03___Programmierung_Projekte\\\\ExoKiWe\\\\Arshan_Labeling_COCO\\\\images_cropped\",img_file.split(\"\\\\\")[-1]), crop_img))\n",
    "    "
   ]
  },
  {
   "cell_type": "code",
   "execution_count": 52,
   "metadata": {},
   "outputs": [
    {
     "data": {
      "text/plain": [
       "True"
      ]
     },
     "execution_count": 52,
     "metadata": {},
     "output_type": "execute_result"
    }
   ],
   "source": [
    "cv2.imwrite(\"Test.jpg\", crop_img)"
   ]
  },
  {
   "cell_type": "code",
   "execution_count": 47,
   "metadata": {},
   "outputs": [
    {
     "data": {
      "text/plain": [
       "'D:\\\\03___Programmierung_Projekte\\\\ExoKiWe\\\\Arshan_Labeling_COCO\\\\images\\\\fe2a57a6-6-39-3.jpg'"
      ]
     },
     "execution_count": 47,
     "metadata": {},
     "output_type": "execute_result"
    }
   ],
   "source": [
    "img_file"
   ]
  },
  {
   "cell_type": "code",
   "execution_count": 48,
   "metadata": {},
   "outputs": [
    {
     "data": {
      "text/plain": [
       "'D:\\\\03___Programmierung_Projekte\\\\ExoKiWe\\\\Arshan_Labeling_COCO\\\\cropped_images\\\\fe2a57a6-6-39-3.jpg'"
      ]
     },
     "execution_count": 48,
     "metadata": {},
     "output_type": "execute_result"
    }
   ],
   "source": [
    "img_file.replace(\"images\",\"cropped_images\")"
   ]
  },
  {
   "cell_type": "code",
   "execution_count": 10,
   "metadata": {},
   "outputs": [],
   "source": [
    "import json"
   ]
  },
  {
   "cell_type": "code",
   "execution_count": 11,
   "metadata": {},
   "outputs": [],
   "source": [
    "with open(r\"D:\\03___Programmierung_Projekte\\ExoKiWe\\Arshan_Labeling_COCO\\Test\\result.json\") as file:\n",
    "    data = json.load(file)"
   ]
  },
  {
   "cell_type": "code",
   "execution_count": 12,
   "metadata": {},
   "outputs": [
    {
     "data": {
      "text/plain": [
       "dict_keys(['info', 'categories', 'images', 'annotations'])"
      ]
     },
     "execution_count": 12,
     "metadata": {},
     "output_type": "execute_result"
    }
   ],
   "source": [
    "data.keys()"
   ]
  },
  {
   "cell_type": "code",
   "execution_count": 18,
   "metadata": {},
   "outputs": [
    {
     "data": {
      "text/plain": [
       "4"
      ]
     },
     "execution_count": 18,
     "metadata": {},
     "output_type": "execute_result"
    }
   ],
   "source": [
    "len(data['annotations'])"
   ]
  },
  {
   "cell_type": "code",
   "execution_count": 8,
   "metadata": {},
   "outputs": [],
   "source": [
    "from pycocotools.coco import COCO\n",
    "import json"
   ]
  },
  {
   "cell_type": "code",
   "execution_count": 75,
   "metadata": {},
   "outputs": [
    {
     "name": "stdout",
     "output_type": "stream",
     "text": [
      "loading annotations into memory...\n",
      "Done (t=0.03s)\n",
      "creating index...\n",
      "index created!\n"
     ]
    }
   ],
   "source": [
    "# initialize COCO api for instance annotations\n",
    "coco=COCO(r\"D:\\03___Programmierung_Projekte\\ExoKiWe\\Arshan_Labeling_COCO\\result copy.json\")"
   ]
  },
  {
   "cell_type": "code",
   "execution_count": 76,
   "metadata": {},
   "outputs": [],
   "source": [
    "# Vertauschen von Höhe und Breite in der JSON Datei\n",
    "for key, value in coco.imgs.items():\n",
    "    tmp_width = value['width']\n",
    "    value['width'] = value['height']\n",
    "    value['height'] = tmp_width-(882*2)"
   ]
  },
  {
   "cell_type": "code",
   "execution_count": 77,
   "metadata": {},
   "outputs": [],
   "source": [
    "# Vertauschen der x und y Werte in der Segmentation und Vertauschen der BBox Koordinaten\n",
    "for key, value in coco.anns.items():\n",
    "    x_val = value['segmentation'][0][0::2]\n",
    "    y_val = value['segmentation'][0][1::2]\n",
    "    new_pairs = [None]*(len(x_val)+len(y_val))\n",
    "    new_pairs[::2] = [i * (2268/4032) for i in x_val]\n",
    "    new_pairs[1::2] = [(i * (4032/2268))-882 for i in y_val]\n",
    "    value['segmentation'][0] = new_pairs\n",
    "    \n",
    "    tmp_bbox = value['bbox']\n",
    "    value['bbox'] = [tmp_bbox[0]*(2268/4032),(tmp_bbox[1]*(4032/2268))-882,tmp_bbox[2]*(2268/4032),tmp_bbox[3]*(4032/2268)]"
   ]
  },
  {
   "cell_type": "code",
   "execution_count": 78,
   "metadata": {},
   "outputs": [],
   "source": [
    "coco_dict = coco.dataset"
   ]
  },
  {
   "cell_type": "code",
   "execution_count": 79,
   "metadata": {},
   "outputs": [],
   "source": [
    "# Write the dictionary to the output file\n",
    "with open('new_result.json', 'w') as f:\n",
    "    json.dump(coco_dict, f)"
   ]
  }
 ],
 "metadata": {
  "kernelspec": {
   "display_name": "ki",
   "language": "python",
   "name": "python3"
  },
  "language_info": {
   "codemirror_mode": {
    "name": "ipython",
    "version": 3
   },
   "file_extension": ".py",
   "mimetype": "text/x-python",
   "name": "python",
   "nbconvert_exporter": "python",
   "pygments_lexer": "ipython3",
   "version": "3.12.3"
  }
 },
 "nbformat": 4,
 "nbformat_minor": 2
}
