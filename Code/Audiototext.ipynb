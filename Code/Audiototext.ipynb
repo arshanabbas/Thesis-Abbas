{
 "cells": [
  {
   "cell_type": "code",
   "execution_count": 2,
   "id": "0acc9f62",
   "metadata": {},
   "outputs": [
    {
     "name": "stdout",
     "output_type": "stream",
     "text": [
      " Herzlich willkommen, morgens Neumarben in Neu-Show. Muss Neumarja, ey, ich bin Neu-Show. Und das Neu-Show, falsch aber anders lustig. Heute mit dabei, den Reuters. Oh mein Gott, oh mein Gott, Tina, Auschen. In den Auschen. Krölt, Kostär. Und für Nester Star. Bitte. Sehr gut. Falls ihr alle vorgesehen wollt, einfach jetzt in der Militätik am Stück gucken. Das ist Deutschland. Falls ihr euch fragt, das ist anders. Ja, es ist falsch aber anders lustig. Wir haben heute zwei Teams, die miteinander antreten. Wir fangen an. Das erste Spiel ist, sollte es nicht sagen. Ich dir wollte eine Situation, ihr sagt mir, was man da nicht sagen sollte. Was sollte man nicht sagen? Ansel Westach. 10, 9, nee, ist kein Kauber, nicht zählt, wie viel Finger ihr Kind noch hat. Sehr gut, weiß. Schlaffel. Ich muss euch sagen. Was sollte man nicht sagen? Ansel Westach. Scheiß mal auf armen Länge Abstand. Die hast du schon angefasst. Wow, glatt. Wirklich als Erster. Ja. Was sollte man nicht sagen? Ansel Westach, Fred? 3, 2, 1. Ich glaube, wir sollten die Beziehung öffnen. Ansel Westach, Felix. Mein Vorsitz nächstes Jahr. Mehr Sport und weniger mein Kind schlagen. Das ist mal ein guter Vorsatz. Aber schwierig. Weniger. Nicht übernehmen. Was sollte man nicht sagen? Auf ein tolles 19.39. Konnt du auf an, wer man ist? Ansel Westach. Sollte man das nicht sagen. Flo. 129, 118, 117, 116. Freit. Und? Freit. Schwarzpulver darf man nicht mehr sagen. Es heißt Pulver auf Kaller. Wow. Was sollte man nicht sagen? Ansel Westach, Felix? Stellon. Uu. Weiß. Kertes Gefühl, es gibt so Sachen, die sollte man nicht sagen. Zum Beispiel Till. Krass, die Raketen werden auch aufwendigern. Guck mal, super hell. Es sieht aus von den Wolken wie so ein Pilz. Krass. Was? Flo, Ansel Westach. Und jetzt für sie live vom Brandenburger Tor. P.D.D. Bitte zeig ich dabei nicht auf mich. Wenn ich an P.D.D. denke, ich auch nicht an Till rein. Oder Wohnung ist kleiner. Das hemmt. Was soll man nicht sagen? Freit. Ich knall dich auch noch. Also da flieb mich gleich angesprochen. Wow. Wir sind ... Okay, macht euer Ding. Teamlaf ist real off. Erst im Team, dann in Team. Wow. What the fuck? Ja. Ich stelle gerade. Mora Znormer, ja, kannst du ja mal noch. Der Till aus den Videos mit der Zigarette. Boah, du hieß leid. Fynnes, was solltest du nicht sagen, Ansel Westach? Trauriges Altes. Nein. Traur. Das ist doch nicht der Schreiben mit fünf Uhr morgens. Ich kann nicht mehr nämlich das einfach. Hab noch was zu den Western, was man noch nicht sagen sollte. Ich hab noch was zu tun. Neu, jemand. Blei gießen darf man nicht mehr machen, weil ich das Ganze bleibe, die nächste Corona-Impfung brauchen. Traurig, das ist dieses mal echt ne Schreckschutz-Bistola-Elegborgen. Oh. Dankeschön, wie das geräuscht. Das ist so eine Räusche, wo ich anschlafen kann. Das nehme ich mir auf, denke ich. Oh, schön, das war ein geiler Tag heute. Was sollte man nicht sagen auf dem Friedhof? Tell. Mama, Papa und hier wird ihr liegen. Auf dem Friedhof sollte man nicht sagen, Flo. Und die Wohnung ist jetzt frei. Ich hab alle unterlagen dabei. Sollte man nicht sagen auf dem Friedhof, Fynnes? Kuck mal, hier hol ich immer meine Blumen. Unter hinten stehen auch so schnucklige Wasen, als die Erde schon drinnen. Superbruchbar. Tell, was sollte man nicht sagen auf dem Friedhof? Ja, und hier endet unser Date. Auf dem Friedhof, sollte man was nicht sagen, Fried? Arschet zu Arschet, Staub zu Staub. Kuck wie ich gleich ihre Schmuckstück graube. Bibi, Bibi, Bibi, Bibi, Bibi, Bibi, lass mal hier nennen. Fynnes, was sollte man nicht sagen auf dem Friedhof? Tschüssi Kowski. Na, jemanden, Friedhof. Ja, Dill. Und mit etwas Fantasie entstehen hier Eigentubeswohnungen, exklusiver Laus. Fynnes, was sollte man nicht sagen auf dem Friedhof? Muss ich ein bisschen spielen, ja. Piotr, das ist kein Spargel. Das ist dein Fingert. Wow. Wie du nicht da reingekämpft hast in den Päsen. Oh, man. Oh, man. Oh, man. Was war das von Aktent? Ponych, heute drei Tage lang hübsch. Ja, jetzt hübsch. Aber ich bin ein Ansage. Ach, ich schauch Spüler. Ja. Friedwas, was ist das? Das war das von Aktent. Ponych, heute drei Tage lang hübsch. Ja, jetzt hübsch. Ja. Friedwas, wenn man nicht sagen auf dem Friedhof. Hast du deine Urnen da hohe, oder freust du dich nur nicht zu sehen? Wer ist er? Ich hätte auch noch ein Flow. Nee, ich hör nichts. Hörst du was? Nee, ich hör nichts. Nee, ich hör nichts. Hörst was? Nack-nack, hust der Aromke. Soll ich mal nicht sagen auf dem Friedhof, Friedhof? Ruhe in Frieden, wo er ja Frieden durch Ruhe enttüchert, die alte mal die Schnauze. Neu, jemand? Für mich sind das keine Leichten. Für mich sind das Menschen, die aufgehört haben, nein zu sagen. Alter. Ich hab gerade einen Pikachu gefangen, seid ihr auf wegen Pokémon Go da? Was haben wir auf dem Friedhof nicht sagen, der Flow? Karte dir. Nice. Papa hat gesagt, hier liegt Mama, weil ich nie auf esse. Hahaha. Hahaha. Ja. Geil. Was soll denn man nicht sagen? Im Schützenverein. Tell. Ich bin schwul. Hahaha. Fils. Können wir das Post von Anders Breivig endlich runternehmen? Hahaha. Fried, was soll denn man nicht sagen, schützenfein? Ich würde auch gerne mal wieder knickt und von hinten geladen werden. Hahaha. Wiederher, so ist gewähr. Hahaha. Was willst du so nicht sagen, im Schützenverein? Lieberwus ist alle. Hahaha. So würde man nicht sagen. Soll man nicht sagen? Im Schützenverein soll man Sachen nicht sagen. Du bist ja auch eine Granate. Oh. Hahaha. Hahaha. Ich hab zwei Karten für eine Morge zu neu, Maya. Hahaha. Wer kommt mit Ablachen über toxische Männlichkeit? Hahaha. Ablachen vor allem. Hahaha. Schützenvereinfills? Was soll man noch nicht sagen? Dass man seine Frau liebt. Oh, ist aber noch gut. Ich hab noch einen? Ja, gut. Dass man seine Schwester nicht ficken möchte. Ja, die Stage-Ruhren hat es dran gemacht. Fred, was soll's nicht sagen, im Schützenverein? Ah, der Schützenverein, die Polizei des kleinen Mannes. Hahaha. Wir dienen Deutsch-Lopp. Ja, ja, ja, ja. Für mich bitten ab Röltchen. Hahaha. Ich sage mich jetzt im Verein. Ach, es geht gar nicht um das Sternzeichen. Hahaha. Ach so, ich hab schon gedacht, weil Freiheitsdanger mir ganz wenig leute. Hahaha. Ich hab so was Indies. Kann ich mitmachen? Ich bin nicht in Dezember geboren. Hahaha. Ah, applause für Fred und Felle! Ja, kann aber jemand ganz schlecht verlieren. König euch, will per Neu. Wir kommen zum nächsten Spiel. Das ist ein Spieler heißt, wie war das noch mal? Funktioniert so. Ich gebe euch gleich eine historische Situation und ihr spielt die nach. Wir folgen bei euch auf jeden Fall an. Ähm, zell und so. Pass auf. Also du bist Moses und du bist Gott. Ja, kann ich. Hier jetzt die Gebote. Ja, weiß ich. Und bitte. Moses. Ist Druckschrift okay? Hahaha. Ja, ist okay, kann man am besten lesen. So, Geburt eins, rechts, still links gehen. Hahaha. Wir links auf einer Rolltreppe stehen, bleibt darf getasert werden. Oh Gott, oh Gott, oh Gott. Mhm. Ähm, dann du sollst nicht töten. Es sei denn, die Person hat's total verdient. Darf ich das abkürzen mit Jolo? Ja. So, Geburt Nummer drei. Mhm. Du sollst nicht viel begehren, deine anderen Frau. Ehe der Hahn dreimal gekrebt hat. Hahaha. Da möchte ich mich seriös geben. Da soll man reizeln. Dann soll ich fragen, was meinter damit. Ja, genauso Vortragen dann bitte später. Danke, dann Geburt vier. Wein auf Bier ratig dir. Hahaha. Bier auf Wein, das ist fein. Hahaha. Oh mein Gott. Mhm. Dann, Geburt Nummer fünf. Im Zweifel fragte Reinas. Ich hab das Meiste von ihm gelernt. Hahaha. Wie schreibe ich Reinas? Wie man spricht. Okay. Hahaha. Nummer sechs. Wenn du etwas träumst, erzählst nicht danach. Hahaha. Nächstes Geburt. Immer nur einer zu mir beten. Sonst komm ich komplett durcheinander. Hahaha. Nächstes Geburt. Ich hab keinen Bock mehr. Das ist okay, machen wir Kürzer. Hahaha. Kannst du auch einfach den anderen sagen? Jesus ist nicht mein Sohn. Der darf auch nicht so genannt werden. Der hat dich eine One-Eights-Dandme in der Frau. Oh Gott. Die sagt jetzt die ganze Zeit. Oh mein Gott. Oh Gott. Hahaha. Geburt Nummer neun, neun heißt neun. Hahaha. Okay. Geburt Nummer zehn. Glauben nicht alles, was ich sage, macht ihr deinen eigenen Gedanken. Geburt Nummer elf, jede dieser Regeltrausserkraft, wenn du nicht am ich glaubst. Wenn du nicht am ich glaubst, dann einfach bitte denkst. Vielen Dank. Ja, gut. Ja. So, ihr beide spielt jetzt, diese Szene nach aus Susi und Stolch. Aber Stolch trennt sich. Ja. Du bist ein Apologist. Du bist stolch. Du bist ein Gewohn. Susi, schmeckt gut heute wieder, ne? Die Nudeln, die Fleischbeiche von Metzger hier umgegangen. Boah, ist ein bisschen, ich glaub nicht, dass das Ehrichtie italienisch ist. Aber ... Es ist für mich immer sehr wichtig, dass italienische wir ... Ich weiß, du riffst mir, dass wir im Urlaub nur in Touristen fallen. Ich fand den Laden einfach schön. Hast du wieder richtig gut ausgesucht, wie immer? Ja. Ha ha ha ha ha ha. Ähm ... Ja, also, ich weiß noch nicht, wie ich jetzt irgendwie einleiten soll. Wieso hast du heute Thunfisch bestellt, irgendwie? Das ist du nie. Ja, ich weiß nicht, wie ich es hier sagen soll. Aber ich ... Ich seh grad ne andere ... Ähm ... Nandestier? Mhm. Ja. Ich glaube, nicht, gar nicht weiter. Ich weiß ganz genau, warum du Fisch bestellt hast. Du stehst auf eine Pussie. Ja. Nee, es war mir klar. Ja, ich bin einfach mal was Neues aus. Interacial dating ist ja ganz angesagt. Ja. Das zum einen. Auch der Alter ist unterschiedlich. Man, du bist zwei ... 14, zwei ... ja, vierze und Jahre älter als ich. Ich will es einfach eine Bitch, die nach Fisch stinkt. Genau, das was du willst. Ich meine, ich stink auch mal einmal im Monat auch, aber es reicht dir anscheinend nicht. Soll ich frei schnauert, sagen was ich will? Ich bin der Katze, die sieben leben aus dem Mund. Ja, das war aber nicht jetzt ... Ja, wer hat das für sie für Jahre nicht mehr gefützt? Das war's mit Doggie-Style, mein Freund. Ich bin der Blaus mit Fynnes und Fynn. Ha ha ha! Und damit ... großen der Blaus für euch. Die haben ja auch super. Die beiden hier, super. Super. Super in zweiten Platz belegt. Wir kommen zum nächsten Spiel. Es heißt, wer ist das? Also, ich das spiel. Ich werde euch jetzt gleich Fotos zeigen. Ich sage mir, wer das ist, ohne mir zu sagen, wer das wirklich ist. Hier kommt Bild Nummer eins. Mhm. Wer ist das, Tü? Das ist ein Feminist. Der bis heute denkt, das heißt, 9 heißt 9. Ja. Also für ihn ist das Trinkonganz starkes Statement gegen Sexismus. Fynnes, wer ist das? Ich würde sagen, das ist da, auf cool water als Mensch. Ha ha ha! Wow. Präziser geht's nicht. Freit, wer ist das? Das ist der Schweineanteil vom Gemischtenag. Er ist so gut, ey. Ja. Wir sind zum Bock auf das Spiel. Was red ich viel zu, ne? Wirst du sie alle ... Wer ist das denn jetzt, Fynn? Mama, drei. Ja. Dass der Typ der Felix fragt, ob Fynnes Shingel ist. Ha ha ha ha! So, neun? Das sind ein Typ, der sagt, sorry, ich hab leider eine Latexallergie. Ha ha ha ha! Ich hab auch neun. Das ist der Corona-Kontent von Karodor. Ha ha ha! Wow. Ah! Flohre. Wer ist das, Floh? Das ist Felix Lobrecht, wenn er keinen Buch geschrieben hätte. Ne? Nice. Norgemann, Fynnes. Das ist die Webgeschmacksrichtung saurer Apfel. Ha ha ha ha! Nee. Das ist das letzte, was du siehst, bevor du deine Panini-Sammlung abgezogen hast. Ha ha ha ha! Auf der Blick-Eis. Entschaut sich aber nicht, die zurückzunehmen. Nein, Mohammed, behalt ruhig. Ha ha ha ha! Flohre, wer ist das? Das ist die Enzboffel Arztaschröder, Friseur. Nice. Ich glaube, es ist ein Beton einer Vertrauenslehrer, der versucht, streng zu sein auf Klassenfahrt. Wow. Ja! Paskeil, da hatten wir ... Nein, wir hatten nicht explizit gesagt, dass es verboten ist, aufzubrechen, aber das versteht sich von selber. Sorge, der Blick ist perfekt. Oder das ist der Hammer. Ich appellier mal kurz an deinen Verstand, Jo. Ey, du bist jetzt neunte Klasse, das muss selber funktionieren. Ich hab gesagt, nur zwei Bier jeder. Ich bin echt ein lockerer Typ, aber jetzt ist Schluss. Ja. Will es was? Das ist ein Online-Snieker-Ladenbesitz. Der Krann sagt, ja, diesen Monat 20 Prozent auf Adidas. Freut, wer ist das? Das letzte, was einem Muttersied bevor sie gefragt wird, ob Kevin zum Spielen rauskommen darf. Ja. So, wer ist das? Der Lebende beweist, dass du nur ein berühmten Freund brauchst, um selbstberühmt zu werden. Wow. Wow. Wow. So, Leute, wer ist das hier? Will es es das? Das ist Vorhaut. Nach einem kalten Wasserbad. So, okay. Will, wer ist das? Das ist die Klite, du bist nachdem du sie gefunden hast. Endlich. Sag dir gerade. Entide, mausche. Sagen mir, wer das ist. Das bin ich, wenn mich auf Englisch jemand voll labert. Na, na, na, na. 10. Ich weiß nicht, wer das ist, aber unten runter sollte stehen. Komm mit mir ins Abenteuerland Prostata-Massage. Ja, oder der steht zu lang oder wasserdüse, oder? Geil. Oh, ja, okay. So gut. Will es, wer ist das? Das ist das einzige Schuleperch in einem Tropical Island. Diese Rieche stolz. Freit, wer ist das? Dass das letzte, was du siehst, bevor du im Kinderbecken unter Wasser gedrückt hörst. Flo, wer ist das? Das ist das Finanzamt, kurz bevor es dich fickt. Tellt. Das Michael Fels bei Wisch bestellt. Wer da jemand? Ach, Dungen bei Wasser, das ist Heiflaume. Oha. Nice. Das sind sehr, sehr gut. Ich weiß, wo bin Handel, das ist hier. Das ist Skihago ohne Brille. Ich weiß, was das ist. Wer möchte noch? Fred, das ist ein richtig guter Haltensledersof. Ne, jemand, Flo. Das ist das Zinderprofil von Herbert 53, der auf feuchte Abenteuer steht. Oha. Das ist Werbung für Inkontinenz-Unterwäsche. Früher musste ich nachts oft raus. Ich lasse sich einfach laufen. Das ist für den Kürbis. Das Kawa-Modell von Happotecken. Ja, geil. Ich hab auch noch einhabilen. Das ist eine männliche Heberme, spezialisiert auf Wasser geboten. Nice. Flo. Das ist der Typ einer Kasse, der es passend hat. Okay, dann will ich ... Ich hab die auch noch einen. Das ist der Bademeister, der dich zu oft sportsfreund. Ich hab noch einen. Ich hab noch nie gemacht. Ich was mein. Ich was mein. Schönes Abzeichnis, du darfst das, was mein Kurs da war. Okay, wir haben noch andere das Bild. Wer ist dies? Ich weiß nicht genau, was auf jeden Fall bitter, wenn der Handpuppe besser ist, machen kann als du und die Kamera findest. Flo, wer ist das? Das sind die aus Marzano und ihr Steuerberater. Das ist ... Ey, ey, ey, ey. Sorry, aber ... Aber ist eine geile Leidmissurma. Wir sind noch nicht zu Ende. Nee, wer ist das? Das ist das Bild zu, was soll ich jetzt heißen? Ich hab auch farbige Freunde. Fälle es, wer ist das? Das ist das, was Kinder als Letzes See bevor sie ins Bett gehen und Elmo. Da würde ich direkt gerne anschließen. Das ist eine bekannte leblose Marionette aus der deutschen Fernsehlandschaft und Elmo. Das ist auch gar nicht erfolgreich sein, oder? Noch jemand? Ja, egal. Flo? Das Papa mit seiner neuen exotischen Freundin. Das ist 20 Jahre jünger, aber verdammte Reiföhr, Alter. Traumhaft, ich sag. Tell, wer ist das? Nee, hab ich nichts cooler, Moderator. Ich versuche mir doch hier nichts für einen Gagleude. Will noch jemanden finden, wer ist das? Das ist ein vollidiot der grade 48 Euro beim Greifautomahn ausgegeben. Nice, nice. Stark. Dass die Lieblingshandpuppe von Joko Winter scheit. Und Elmo. Ah, ah, ah, ah, ah. Flo, wer ist das? Das ist meine Depression, wie sie meinen Optimismus fest umgriffe hat. Ich hab noch einen. Der ist ein Typ, der sich denkt, ich hasse es berufsjugend. Ich muss noch Kostpromo bei den Tele-Tabys machen. Ja, großen Applaus für beide Team, für diesen Spiel. Das war super. Wir kommen zum nächsten Spiel, das heißt, bei Teffen uningenämen. Ich werde euch jetzt treffen und nur eine Person weiß, was ich gesagt habe. Das Thema der Konversation, die andere Person nicht. Du trifft Teel bei 3, 2, 1, bitte. Jetzt. Hey, Filles. Wir könnten näher zusammengehen. Das wäre kein Problem. Das wird uns nicht schwerfallen, bei dem, was bald ansteht. Also unsere Hochzeit. Oh, wow. Ja. Also, ist da ... Hau jetzt gar nicht mitgerechnet. Das hat mir alles besprochen, schon. Ja, okay. Erst heiraten dann anfassen. Und ... Ja, und da wollte ich jetzt machen, ich habe so eine kleine Überraschung vorbereitet, wenig Einlade. Rätst du nie? Ich komme immer noch nicht über diese Helle-Raten, der ... Mir noch nie jemand Mann ins Gesicht, dieses Wort. Das sind Bind auf, bis in der Bühne ist. Hau nicht, ne? Ja, okay. Ja, das ist jetzt weit. Okay. Okay. Ja, jetzt freue ich mich. Jetzt holen wir's mit. Das ist ja ... Was hast du noch mal drauf reagieren? Oh mein Gott. Du hast locker noch 20 Jahre Zeit, dich die ganze Zeit reinzuschreuen. Ja. Oder länger. Auf jeden Fall, ich hab die Hochzeit organisiert und ich hab jetzt Überraschungswärste eingeladen. Und ja, vielleicht einfach mal raten, wer es ist. Äh, der kaltst du mir so ein paar? Also, meinst du die Person? Mach ich die Person? Oder? Ja. Kommt auf den Zeitpunkt ab. Okay, ich da. Also, und ich sag mal so, es ist eine Person, mit der ich ich zum Beispiel viel Teile ... Mhm. Oh Gott. Auf eine Art. Ja. Okay. Ja. Schon. Aha. Und es ist so jemand ... Ja, der hat eine große Rolle gespielt in deinem Leben. Ja, muss ich eher ... ist das ein ratisch Spiel? Nee, ne? Ich bin ... Ja. Ja, gerade ruhig. Es ist eine ... Da ist nur als Tippfüll, wenn du nicht reizt wird, dann die aufhören. Okay, ist dein ... Ja, ihr habt ein Bart. Oh, das ist ja. Genau. Weihnachtsmann? Ja, Weihnachtsmann. Hast du ja Weihnachtsmann eingeladen? Das davon weiß ich nicht, sagen wir so. Ich kenne mir zwei Männer mit Bart. Das ist der Weihnachtsmann und Osama bin ... Ja, ja. Das ist der Weihnachtsmann. Ja, er stimmt. Ja, er ist der Weihnachtsmann. Ja, genau. Ja, siehst du, er ist der Weihnachtsmann. Ja, das ist ja ... Ach, okay, danke. Ich bin la! Großner bloß für die beiden. Fantastik, oh, Revondor. So. Jetzt beginnen sich Fried und Teile. Teile weiß nicht, worum es geht. 3, 2, 1, bitte. Jetzt. Moin. Mhm. Ja. Was? Ja, worum geht's? Ja. Also, du bist ja jetzt, hast du auch schon vorgesagt, an einem anderen Karrierepunkt als wir. Ja, weil jetzt aus deinem und klingt's jetzt unangenehm, aber ja. Aber ne? Ja, also, es ist ja so. Du bist ja bald auf Grandissimotur. Ja. Ich schlöne unter ihr gebracht, dann kümfe ich mich. Mein Italien-Grandissimotur. Also für so eine Grandissimotur, dann kann man vielleicht auch so ein Grandissimolive-Style. Ja. Und ich da das stimmt schon. Sich mal vergrößern. Inwiefern? Im Mobilial. Im Mobilial. Ich finde ich erst mal gut. Ist das denn so eine Sache, wo du an die du gedacht hast? Also, ist das aus Deutschland oder eher, wo kaube ich das? Du kannst eigentlich hin, bist mir eigentlich scheißegal, wo du ... Ja. Ja. Also, was heißt Mobilal? Ja, also, ihr habt einen Regal dann Großes. Also, ich mein schon im Mobil, also von wegen Ort, in Ordnungswechsel. Okay. Also, ich find, ich finde ja deine Wohnung echt schnike. Warum sagst du schnike? Also, ich ... Du bist viel zu jung für das Wort. Findst du? Ja, schon. Ich find, ich ... Aber kommt das jetzt wieder? Das kommt gar wieder. Ja, bleibt am Ball. Okay, alles klar. Fret, mach was du willst. Ja, aber ... Ich hab deine Hausverwaltung ein kleines Angebot unterbreitet und ich will jetzt halt mir gehören, jetzt seine Bude. Ja, aber das ist ja wie willst du da ... Aber wie willst du das denn finanziell stemmen, Frisch? Das ist ja doch ein bisschen hochgehüpft, ne? Ja, viele Opelings bei Türenreiner. Machen die Kasse voll. Dann bloß ich mit dir. Pfeil ist und flow. Begeht dir doch euch bei 3, 2, 1, bitte nun. Ich hab das so Angst, dass euch ... Kannst du auch ... Ganz ehrlich, flow, ich kann nicht in dein Gesichtskucken gerade ohne richtig geil zu werden. Das heißt, ist wirklich ... Ich seh da ... Ich hab das so Angst, dass euch ... Ich seh da ... Es ist wirklich ... Ich bin einfach geil. Ich bin sie grad geil. Ich will einfach nur flow, dass du weißt, dass deine Familie wirklich alles dafür tut, dass du hier bei falsch aber lustig dabei bist. Also, die geben richtig Gas. Als es Stunden lang geben die Gas. Mach mal. Okay, irgendwann ... Bei 3 Nächte Gas gegeben. Das du hier ... Ja. Sag mal, Mama? Ja, sehr gut. Das ist doch schon mal ... Das war so ... Ja, ich hab das. Ja, wenn ich sage einfach Applaus. Holy Shit. Ihr beginten euch bei 3, 2, 1, bitte nun. Ich küsste dich doch. Hi. Wie sag ich dir das jetzt nur? Ich hab das so Angst, dass du hier bist. Ich hab das so Angst, dass du hier bist. Ich hab das so Angst, dass du hier bist. Ich hab das so Angst, dass du hier bist. Ich hab das so Angst, dass du hier bist. Ja, Mama. Ähm ... Wow. Ich möchte lösen. Wow. Wow. Ja. Ich möchte lösen. Du weißt, ich interessiere mich für Politik. Ich möchte lösen. Aus Politik. Darf ich bitte lösen? Innen politisch. Ah, los, bitte lösen. Ich muss dein Spot bei Dieter nur übernehmen. Ja, Mann. Oh, nee. Ja, okay. Blosen Applaus, Flosen und Fried. Fantastisch, fantastisch. Gewonnen hat den Abends das Team hier, großen Applaus. Das war es für heute mit falsch, aber anders lustig. Guck doch gerne auch alle anderen Folgen in der Meditegan. Wir sehen uns gleich schon.\n"
     ]
    }
   ],
   "source": [
    "import whisper\n",
    "model = whisper.load_model(\"base\")\n",
    "result = model.transcribe(r\"C:\\Users\\arsha\\Downloads\\1.mp3\", language=\"de\")\n",
    "print(result[\"text\"])"
   ]
  },
  {
   "cell_type": "code",
   "execution_count": 1,
   "id": "af097a81",
   "metadata": {},
   "outputs": [
    {
     "name": "stdout",
     "output_type": "stream",
     "text": [
      "Transcribing... please wait.\n"
     ]
    },
    {
     "name": "stderr",
     "output_type": "stream",
     "text": [
      "c:\\Users\\arsha\\anaconda3\\envs\\label\\Lib\\site-packages\\whisper\\transcribe.py:132: UserWarning: FP16 is not supported on CPU; using FP32 instead\n",
      "  warnings.warn(\"FP16 is not supported on CPU; using FP32 instead\")\n"
     ]
    },
    {
     "name": "stdout",
     "output_type": "stream",
     "text": [
      "✅ Transcript saved to: C:\\Users\\arsha\\Documents\\Transcripts\\1_transcript.txt\n"
     ]
    }
   ],
   "source": [
    "import whisper\n",
    "import os\n",
    "\n",
    "# === USER CONFIGURATION ===\n",
    "audio_path = r\"C:\\Users\\arsha\\Downloads\\1.mp3\"  # Path to your MP3 file\n",
    "output_folder = r\"C:\\Users\\arsha\\Documents\\Transcripts\"  # Where to save the transcript\n",
    "output_filename = \"1_transcript.txt\"  # Name of the output file\n",
    "\n",
    "# === Ensure output folder exists ===\n",
    "os.makedirs(output_folder, exist_ok=True)\n",
    "\n",
    "# === Load Whisper model ===\n",
    "model = whisper.load_model(\"base\")\n",
    "\n",
    "# === Transcribe ===\n",
    "print(\"Transcribing... please wait.\")\n",
    "result = model.transcribe(audio_path, language=\"de\")\n",
    "transcript_text = result[\"text\"]\n",
    "\n",
    "# === Save transcript ===\n",
    "output_path = os.path.join(output_folder, output_filename)\n",
    "with open(output_path, \"w\", encoding=\"utf-8\") as f:\n",
    "    f.write(transcript_text)\n",
    "\n",
    "print(f\"✅ Transcript saved to: {output_path}\")\n"
   ]
  },
  {
   "cell_type": "code",
   "execution_count": 7,
   "id": "c6262940",
   "metadata": {},
   "outputs": [
    {
     "name": "stdout",
     "output_type": "stream",
     "text": [
      "Combined document saved to: C:/Users/arsha/Documents/Transcripts/combined_de_en.docx\n"
     ]
    }
   ],
   "source": [
    "from docx import Document\n",
    "import re\n",
    "\n",
    "def split_sentences(text):\n",
    "    return re.split(r'(?<=[.!?])\\s+', text.strip())\n",
    "\n",
    "def combine_docs_by_sentence(german_file, english_file, output_file):\n",
    "    # Load Word documents\n",
    "    german_doc = Document(german_file)\n",
    "    english_doc = Document(english_file)\n",
    "\n",
    "    # Extract non-empty paragraphs\n",
    "    german_paragraphs = [p.text.strip() for p in german_doc.paragraphs if p.text.strip()]\n",
    "    english_paragraphs = [p.text.strip() for p in english_doc.paragraphs if p.text.strip()]\n",
    "\n",
    "    # Create output document\n",
    "    combined_doc = Document()\n",
    "    min_len = min(len(german_paragraphs), len(english_paragraphs))\n",
    "\n",
    "    for i in range(min_len):\n",
    "        de_sentences = split_sentences(german_paragraphs[i])\n",
    "        en_sentences = split_sentences(english_paragraphs[i])\n",
    "        max_sen = max(len(de_sentences), len(en_sentences))\n",
    "\n",
    "        for j in range(max_sen):\n",
    "            de = de_sentences[j] if j < len(de_sentences) else \"[Missing Original]\"\n",
    "            en = en_sentences[j] if j < len(en_sentences) else \"[Missing Translation]\"\n",
    "\n",
    "            combined_doc.add_paragraph(f\"DE: {de}\")\n",
    "            combined_doc.add_paragraph(f\"EN: {en}\")\n",
    "            combined_doc.add_paragraph(\"\")\n",
    "\n",
    "    combined_doc.save(output_file)\n",
    "    print(f\"Combined document saved to: {output_file}\")\n",
    "\n",
    "# === USAGE EXAMPLE ===\n",
    "if __name__ == \"__main__\":\n",
    "    german_file = \"C:/Users/arsha/Documents/Transcripts/Docs.docx\"               # Path to German DOCX\n",
    "    english_file = \"C:/Users/arsha/Documents/Transcripts/Docs_en_GB.docx\"        # Path to English DOCX\n",
    "    output_file = \"C:/Users/arsha/Documents/Transcripts/combined_de_en.docx\"     # Output file path\n",
    "\n",
    "    combine_docs_by_sentence(german_file, english_file, output_file)"
   ]
  }
 ],
 "metadata": {
  "kernelspec": {
   "display_name": "label",
   "language": "python",
   "name": "python3"
  },
  "language_info": {
   "codemirror_mode": {
    "name": "ipython",
    "version": 3
   },
   "file_extension": ".py",
   "mimetype": "text/x-python",
   "name": "python",
   "nbconvert_exporter": "python",
   "pygments_lexer": "ipython3",
   "version": "3.12.4"
  }
 },
 "nbformat": 4,
 "nbformat_minor": 5
}
