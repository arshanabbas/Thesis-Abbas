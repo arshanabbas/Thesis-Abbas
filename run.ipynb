{
 "cells": [
  {
   "cell_type": "code",
   "execution_count": null,
   "metadata": {},
   "outputs": [],
   "source": [
    "import tensorflow as tf\n",
    "import numpy as np\n",
    "import matplotlib.pyplot as plt\n",
    "from PIL import Image\n",
    "\n",
    "# Load the images\n",
    "image_path_1 = '1.jpg'\n",
    "image_path_2 = '2.jpg'\n",
    "\n",
    "image_1 = Image.open(image_path_1)\n",
    "image_2 = Image.open(image_path_2)\n",
    "\n",
    "image_1 = np.array(image_1)\n",
    "image_2 = np.array(image_2)\n",
    "\n",
    "# Display the images\n",
    "plt.figure(figsize=(12, 6))\n",
    "plt.subplot(1, 2, 1)\n",
    "plt.imshow(image_1)\n",
    "plt.title('Image 1')\n",
    "plt.subplot(1, 2, 2)\n",
    "plt.imshow(image_2)\n",
    "plt.title('Image 2')\n",
    "plt.show()\n"
   ]
  }
 ],
 "metadata": {
  "language_info": {
   "name": "python"
  }
 },
 "nbformat": 4,
 "nbformat_minor": 2
}
