{
 "cells": [
  {
   "cell_type": "code",
   "execution_count": 1,
   "metadata": {},
   "outputs": [],
   "source": [
    "import numpy as np\n",
    "import tensorflow as tf\n",
    "import matplotlib.pyplot as plt\n",
    "from PIL import Image"
   ]
  },
  {
   "cell_type": "code",
   "execution_count": null,
   "metadata": {},
   "outputs": [],
   "source": [
    "image_path = 'path/to/your/image.jpg'\n",
    "image = Image.open(image_path)\n",
    "original_image = np.array(image)\n",
    "\n",
    "# Preprocess the image\n",
    "input_image = tf.image.convert_image_dtype(original_image, dtype=tf.float32)\n",
    "input_image = tf.image.resize(input_image, (513, 513))\n",
    "input_image = input_image[tf.newaxis, :]\n",
    "\n",
    "# Load the pre-trained DeepLabV3 model\n",
    "model = tf.keras.applications.DenseNet121(include_top=False, weights='imagenet', input_tensor=input_image)\n",
    "\n",
    "# Perform segmentation\n",
    "predictions = model.predict(input_image)\n",
    "predictions = tf.argmax(predictions, axis=-1)\n",
    "predictions = predictions[0]\n",
    "\n",
    "# Map the class labels to colors for visualization\n",
    "def create_label_colormap():\n",
    "    return np.array([\n",
    "        [0, 0, 0],        # Background\n",
    "        [128, 0, 0],      # Aeroplane\n",
    "        [0, 128, 0],      # Bicycle\n",
    "        # Add more classes as needed\n",
    "    ])\n",
    "\n",
    "def label_to_color_image(label):\n",
    "    colormap = create_label_colormap()\n",
    "    return colormap[label]\n",
    "\n",
    "segmented_image = label_to_color_image(predictions.numpy().astype(np.uint8))\n",
    "\n",
    "# Display the original and segmented images\n",
    "plt.figure(figsize=(10, 5))\n",
    "plt.subplot(1, 2, 1)\n",
    "plt.title('Original Image')\n",
    "plt.imshow(original_image)\n",
    "plt.axis('off')\n",
    "\n",
    "plt.subplot(1, 2, 2)\n",
    "plt.title('Segmented Image')\n",
    "plt.imshow(segmented_image)\n",
    "plt.axis('off')\n",
    "\n",
    "plt.show()\n"
   ]
  }
 ],
 "metadata": {
  "kernelspec": {
   "display_name": "my_env",
   "language": "python",
   "name": "my_env"
  },
  "language_info": {
   "codemirror_mode": {
    "name": "ipython",
    "version": 3
   },
   "file_extension": ".py",
   "mimetype": "text/x-python",
   "name": "python",
   "nbconvert_exporter": "python",
   "pygments_lexer": "ipython3",
   "version": "3.9.18"
  }
 },
 "nbformat": 4,
 "nbformat_minor": 2
}
